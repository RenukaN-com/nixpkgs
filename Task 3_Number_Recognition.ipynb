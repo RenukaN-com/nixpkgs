{
 "cells": [
  {
   "cell_type": "code",
   "execution_count": 4,
   "id": "291904b3",
   "metadata": {},
   "outputs": [],
   "source": [
    "import pandas as pd\n",
    "import numpy as np\n",
    "\n",
    "np.random.seed(1212)\n",
    "\n",
    "import keras\n",
    "from keras.models import Model\n",
    "from keras.layers import *\n",
    "from keras import optimizers"
   ]
  },
  {
   "cell_type": "code",
   "execution_count": 5,
   "id": "907a83c1",
   "metadata": {},
   "outputs": [],
   "source": [
    "df_train = pd.read_csv('train.csv')\n",
    "df_test = pd.read_csv('test.csv')"
   ]
  },
  {
   "cell_type": "code",
   "execution_count": 6,
   "id": "ec60a9b1",
   "metadata": {},
   "outputs": [
    {
     "data": {
      "text/html": [
       "<div>\n",
       "<style scoped>\n",
       "    .dataframe tbody tr th:only-of-type {\n",
       "        vertical-align: middle;\n",
       "    }\n",
       "\n",
       "    .dataframe tbody tr th {\n",
       "        vertical-align: top;\n",
       "    }\n",
       "\n",
       "    .dataframe thead th {\n",
       "        text-align: right;\n",
       "    }\n",
       "</style>\n",
       "<table border=\"1\" class=\"dataframe\">\n",
       "  <thead>\n",
       "    <tr style=\"text-align: right;\">\n",
       "      <th></th>\n",
       "      <th>label</th>\n",
       "      <th>pixel0</th>\n",
       "      <th>pixel1</th>\n",
       "      <th>pixel2</th>\n",
       "      <th>pixel3</th>\n",
       "      <th>pixel4</th>\n",
       "      <th>pixel5</th>\n",
       "      <th>pixel6</th>\n",
       "      <th>pixel7</th>\n",
       "      <th>pixel8</th>\n",
       "      <th>...</th>\n",
       "      <th>pixel774</th>\n",
       "      <th>pixel775</th>\n",
       "      <th>pixel776</th>\n",
       "      <th>pixel777</th>\n",
       "      <th>pixel778</th>\n",
       "      <th>pixel779</th>\n",
       "      <th>pixel780</th>\n",
       "      <th>pixel781</th>\n",
       "      <th>pixel782</th>\n",
       "      <th>pixel783</th>\n",
       "    </tr>\n",
       "  </thead>\n",
       "  <tbody>\n",
       "    <tr>\n",
       "      <th>0</th>\n",
       "      <td>1</td>\n",
       "      <td>0</td>\n",
       "      <td>0</td>\n",
       "      <td>0</td>\n",
       "      <td>0</td>\n",
       "      <td>0</td>\n",
       "      <td>0</td>\n",
       "      <td>0</td>\n",
       "      <td>0</td>\n",
       "      <td>0</td>\n",
       "      <td>...</td>\n",
       "      <td>0</td>\n",
       "      <td>0</td>\n",
       "      <td>0</td>\n",
       "      <td>0</td>\n",
       "      <td>0</td>\n",
       "      <td>0</td>\n",
       "      <td>0</td>\n",
       "      <td>0</td>\n",
       "      <td>0</td>\n",
       "      <td>0</td>\n",
       "    </tr>\n",
       "    <tr>\n",
       "      <th>1</th>\n",
       "      <td>0</td>\n",
       "      <td>0</td>\n",
       "      <td>0</td>\n",
       "      <td>0</td>\n",
       "      <td>0</td>\n",
       "      <td>0</td>\n",
       "      <td>0</td>\n",
       "      <td>0</td>\n",
       "      <td>0</td>\n",
       "      <td>0</td>\n",
       "      <td>...</td>\n",
       "      <td>0</td>\n",
       "      <td>0</td>\n",
       "      <td>0</td>\n",
       "      <td>0</td>\n",
       "      <td>0</td>\n",
       "      <td>0</td>\n",
       "      <td>0</td>\n",
       "      <td>0</td>\n",
       "      <td>0</td>\n",
       "      <td>0</td>\n",
       "    </tr>\n",
       "    <tr>\n",
       "      <th>2</th>\n",
       "      <td>1</td>\n",
       "      <td>0</td>\n",
       "      <td>0</td>\n",
       "      <td>0</td>\n",
       "      <td>0</td>\n",
       "      <td>0</td>\n",
       "      <td>0</td>\n",
       "      <td>0</td>\n",
       "      <td>0</td>\n",
       "      <td>0</td>\n",
       "      <td>...</td>\n",
       "      <td>0</td>\n",
       "      <td>0</td>\n",
       "      <td>0</td>\n",
       "      <td>0</td>\n",
       "      <td>0</td>\n",
       "      <td>0</td>\n",
       "      <td>0</td>\n",
       "      <td>0</td>\n",
       "      <td>0</td>\n",
       "      <td>0</td>\n",
       "    </tr>\n",
       "    <tr>\n",
       "      <th>3</th>\n",
       "      <td>4</td>\n",
       "      <td>0</td>\n",
       "      <td>0</td>\n",
       "      <td>0</td>\n",
       "      <td>0</td>\n",
       "      <td>0</td>\n",
       "      <td>0</td>\n",
       "      <td>0</td>\n",
       "      <td>0</td>\n",
       "      <td>0</td>\n",
       "      <td>...</td>\n",
       "      <td>0</td>\n",
       "      <td>0</td>\n",
       "      <td>0</td>\n",
       "      <td>0</td>\n",
       "      <td>0</td>\n",
       "      <td>0</td>\n",
       "      <td>0</td>\n",
       "      <td>0</td>\n",
       "      <td>0</td>\n",
       "      <td>0</td>\n",
       "    </tr>\n",
       "    <tr>\n",
       "      <th>4</th>\n",
       "      <td>0</td>\n",
       "      <td>0</td>\n",
       "      <td>0</td>\n",
       "      <td>0</td>\n",
       "      <td>0</td>\n",
       "      <td>0</td>\n",
       "      <td>0</td>\n",
       "      <td>0</td>\n",
       "      <td>0</td>\n",
       "      <td>0</td>\n",
       "      <td>...</td>\n",
       "      <td>0</td>\n",
       "      <td>0</td>\n",
       "      <td>0</td>\n",
       "      <td>0</td>\n",
       "      <td>0</td>\n",
       "      <td>0</td>\n",
       "      <td>0</td>\n",
       "      <td>0</td>\n",
       "      <td>0</td>\n",
       "      <td>0</td>\n",
       "    </tr>\n",
       "  </tbody>\n",
       "</table>\n",
       "<p>5 rows × 785 columns</p>\n",
       "</div>"
      ],
      "text/plain": [
       "   label  pixel0  pixel1  pixel2  pixel3  pixel4  pixel5  pixel6  pixel7  \\\n",
       "0      1       0       0       0       0       0       0       0       0   \n",
       "1      0       0       0       0       0       0       0       0       0   \n",
       "2      1       0       0       0       0       0       0       0       0   \n",
       "3      4       0       0       0       0       0       0       0       0   \n",
       "4      0       0       0       0       0       0       0       0       0   \n",
       "\n",
       "   pixel8  ...  pixel774  pixel775  pixel776  pixel777  pixel778  pixel779  \\\n",
       "0       0  ...         0         0         0         0         0         0   \n",
       "1       0  ...         0         0         0         0         0         0   \n",
       "2       0  ...         0         0         0         0         0         0   \n",
       "3       0  ...         0         0         0         0         0         0   \n",
       "4       0  ...         0         0         0         0         0         0   \n",
       "\n",
       "   pixel780  pixel781  pixel782  pixel783  \n",
       "0         0         0         0         0  \n",
       "1         0         0         0         0  \n",
       "2         0         0         0         0  \n",
       "3         0         0         0         0  \n",
       "4         0         0         0         0  \n",
       "\n",
       "[5 rows x 785 columns]"
      ]
     },
     "execution_count": 6,
     "metadata": {},
     "output_type": "execute_result"
    }
   ],
   "source": [
    "df_train.head()"
   ]
  },
  {
   "cell_type": "code",
   "execution_count": 7,
   "id": "71c26705",
   "metadata": {},
   "outputs": [
    {
     "name": "stdout",
     "output_type": "stream",
     "text": [
      "(300, 2)\n"
     ]
    }
   ],
   "source": [
    "df_features = df_train.iloc[:, 1:785]\n",
    "df_label = df_train.iloc[:, 0]\n",
    "\n",
    "X_test = df_test.iloc[:, 0:784]\n",
    "\n",
    "print(X_test.shape)"
   ]
  },
  {
   "cell_type": "code",
   "execution_count": 8,
   "id": "e4b554b8",
   "metadata": {},
   "outputs": [],
   "source": [
    "from sklearn.model_selection import train_test_split\n",
    "import numpy as np\n",
    "\n",
    "X_train, X_cv, y_train, y_cv = train_test_split(df_features, df_label, \n",
    "                                                test_size=0.2,\n",
    "                                                random_state=1212)\n",
    "\n",
    "X_train = X_train.values.reshape(33600, 784)\n",
    "X_cv = X_cv.values.reshape(8400, 784)\n",
    "\n",
    "\n"
   ]
  },
  {
   "cell_type": "code",
   "execution_count": 9,
   "id": "6d73bb8c",
   "metadata": {},
   "outputs": [
    {
     "name": "stdout",
     "output_type": "stream",
     "text": [
      "(0, 255)\n"
     ]
    }
   ],
   "source": [
    "print((min(X_train[1]), max(X_train[1])))"
   ]
  },
  {
   "cell_type": "code",
   "execution_count": 10,
   "id": "0abd5212",
   "metadata": {},
   "outputs": [],
   "source": [
    "X_train = X_train.astype('float32'); X_cv= X_cv.astype('float32'); X_test = X_test.astype('float32')\n",
    "X_train /= 255; X_cv /= 255; X_test /= 255\n",
    "\n",
    "num_digits = 10\n",
    "y_train = keras.utils.to_categorical(y_train, num_digits)\n",
    "y_cv = keras.utils.to_categorical(y_cv, num_digits)"
   ]
  },
  {
   "cell_type": "code",
   "execution_count": 11,
   "id": "7e129332",
   "metadata": {},
   "outputs": [
    {
     "name": "stdout",
     "output_type": "stream",
     "text": [
      "[0. 0. 1. 0. 0. 0. 0. 0. 0. 0.]\n",
      "[0. 0. 0. 0. 0. 0. 0. 1. 0. 0.]\n"
     ]
    }
   ],
   "source": [
    "print(y_train[0]) # 2\n",
    "print(y_train[3]) # 7"
   ]
  },
  {
   "cell_type": "code",
   "execution_count": 12,
   "id": "fa01e031",
   "metadata": {},
   "outputs": [],
   "source": [
    "\n",
    "n_input = 784 \n",
    "n_hidden_1 = 300\n",
    "n_hidden_2 = 100\n",
    "n_hidden_3 = 100\n",
    "n_hidden_4 = 200\n",
    "num_digits = 10"
   ]
  },
  {
   "cell_type": "code",
   "execution_count": 13,
   "id": "e1ea5492",
   "metadata": {},
   "outputs": [],
   "source": [
    "Inp = Input(shape=(784,))\n",
    "x = Dense(n_hidden_1, activation='relu', name = \"Hidden_Layer_1\")(Inp)\n",
    "x = Dense(n_hidden_2, activation='relu', name = \"Hidden_Layer_2\")(x)\n",
    "x = Dense(n_hidden_3, activation='relu', name = \"Hidden_Layer_3\")(x)\n",
    "x = Dense(n_hidden_4, activation='relu', name = \"Hidden_Layer_4\")(x)\n",
    "output = Dense(num_digits, activation='softmax', name = \"Output_Layer\")(x)"
   ]
  },
  {
   "cell_type": "code",
   "execution_count": 14,
   "id": "1982589a",
   "metadata": {},
   "outputs": [
    {
     "name": "stdout",
     "output_type": "stream",
     "text": [
      "Model: \"model\"\n",
      "_________________________________________________________________\n",
      " Layer (type)                Output Shape              Param #   \n",
      "=================================================================\n",
      " input_1 (InputLayer)        [(None, 784)]             0         \n",
      "                                                                 \n",
      " Hidden_Layer_1 (Dense)      (None, 300)               235500    \n",
      "                                                                 \n",
      " Hidden_Layer_2 (Dense)      (None, 100)               30100     \n",
      "                                                                 \n",
      " Hidden_Layer_3 (Dense)      (None, 100)               10100     \n",
      "                                                                 \n",
      " Hidden_Layer_4 (Dense)      (None, 200)               20200     \n",
      "                                                                 \n",
      " Output_Layer (Dense)        (None, 10)                2010      \n",
      "                                                                 \n",
      "=================================================================\n",
      "Total params: 297910 (1.14 MB)\n",
      "Trainable params: 297910 (1.14 MB)\n",
      "Non-trainable params: 0 (0.00 Byte)\n",
      "_________________________________________________________________\n"
     ]
    }
   ],
   "source": [
    "model = Model(Inp, output)\n",
    "model.summary() "
   ]
  },
  {
   "cell_type": "code",
   "execution_count": 15,
   "id": "29b36cfa",
   "metadata": {},
   "outputs": [],
   "source": [
    "from keras import optimizers\n",
    "\n",
    "learning_rate = 0.1\n",
    "training_epochs = 20\n",
    "batch_size = 100\n",
    "\n",
    "sgd = optimizers.SGD(learning_rate=learning_rate)\n"
   ]
  },
  {
   "cell_type": "code",
   "execution_count": 16,
   "id": "6897fc9e",
   "metadata": {},
   "outputs": [],
   "source": [
    "model.compile(loss='categorical_crossentropy',\n",
    "              optimizer='sgd',\n",
    "              metrics=['accuracy'])"
   ]
  },
  {
   "cell_type": "code",
   "execution_count": 17,
   "id": "c745d412",
   "metadata": {},
   "outputs": [
    {
     "name": "stdout",
     "output_type": "stream",
     "text": [
      "Epoch 1/20\n",
      "336/336 - 3s - loss: 1.8168 - accuracy: 0.4924 - val_loss: 0.9549 - val_accuracy: 0.7736 - 3s/epoch - 9ms/step\n",
      "Epoch 2/20\n",
      "336/336 - 2s - loss: 0.6088 - accuracy: 0.8401 - val_loss: 0.4413 - val_accuracy: 0.8788 - 2s/epoch - 5ms/step\n",
      "Epoch 3/20\n",
      "336/336 - 2s - loss: 0.3972 - accuracy: 0.8866 - val_loss: 0.3584 - val_accuracy: 0.8974 - 2s/epoch - 5ms/step\n",
      "Epoch 4/20\n",
      "336/336 - 2s - loss: 0.3360 - accuracy: 0.9016 - val_loss: 0.3151 - val_accuracy: 0.9089 - 2s/epoch - 5ms/step\n",
      "Epoch 5/20\n",
      "336/336 - 2s - loss: 0.2990 - accuracy: 0.9123 - val_loss: 0.2912 - val_accuracy: 0.9165 - 2s/epoch - 5ms/step\n",
      "Epoch 6/20\n",
      "336/336 - 2s - loss: 0.2721 - accuracy: 0.9204 - val_loss: 0.2682 - val_accuracy: 0.9227 - 2s/epoch - 5ms/step\n",
      "Epoch 7/20\n",
      "336/336 - 2s - loss: 0.2503 - accuracy: 0.9268 - val_loss: 0.2531 - val_accuracy: 0.9268 - 2s/epoch - 5ms/step\n",
      "Epoch 8/20\n",
      "336/336 - 2s - loss: 0.2324 - accuracy: 0.9317 - val_loss: 0.2353 - val_accuracy: 0.9320 - 2s/epoch - 5ms/step\n",
      "Epoch 9/20\n",
      "336/336 - 2s - loss: 0.2165 - accuracy: 0.9370 - val_loss: 0.2246 - val_accuracy: 0.9352 - 2s/epoch - 5ms/step\n",
      "Epoch 10/20\n",
      "336/336 - 2s - loss: 0.2025 - accuracy: 0.9411 - val_loss: 0.2168 - val_accuracy: 0.9375 - 2s/epoch - 5ms/step\n",
      "Epoch 11/20\n",
      "336/336 - 2s - loss: 0.1907 - accuracy: 0.9443 - val_loss: 0.2100 - val_accuracy: 0.9385 - 2s/epoch - 5ms/step\n",
      "Epoch 12/20\n",
      "336/336 - 2s - loss: 0.1798 - accuracy: 0.9474 - val_loss: 0.1989 - val_accuracy: 0.9431 - 2s/epoch - 5ms/step\n",
      "Epoch 13/20\n",
      "336/336 - 1s - loss: 0.1702 - accuracy: 0.9506 - val_loss: 0.1929 - val_accuracy: 0.9445 - 1s/epoch - 4ms/step\n",
      "Epoch 14/20\n",
      "336/336 - 2s - loss: 0.1603 - accuracy: 0.9528 - val_loss: 0.1815 - val_accuracy: 0.9479 - 2s/epoch - 4ms/step\n",
      "Epoch 15/20\n",
      "336/336 - 2s - loss: 0.1520 - accuracy: 0.9556 - val_loss: 0.1754 - val_accuracy: 0.9501 - 2s/epoch - 5ms/step\n",
      "Epoch 16/20\n",
      "336/336 - 2s - loss: 0.1446 - accuracy: 0.9580 - val_loss: 0.1732 - val_accuracy: 0.9490 - 2s/epoch - 5ms/step\n",
      "Epoch 17/20\n",
      "336/336 - 2s - loss: 0.1373 - accuracy: 0.9597 - val_loss: 0.1638 - val_accuracy: 0.9514 - 2s/epoch - 5ms/step\n",
      "Epoch 18/20\n",
      "336/336 - 2s - loss: 0.1309 - accuracy: 0.9617 - val_loss: 0.1622 - val_accuracy: 0.9524 - 2s/epoch - 5ms/step\n",
      "Epoch 19/20\n",
      "336/336 - 2s - loss: 0.1247 - accuracy: 0.9632 - val_loss: 0.1551 - val_accuracy: 0.9549 - 2s/epoch - 5ms/step\n",
      "Epoch 20/20\n",
      "336/336 - 2s - loss: 0.1187 - accuracy: 0.9655 - val_loss: 0.1495 - val_accuracy: 0.9568 - 2s/epoch - 5ms/step\n"
     ]
    }
   ],
   "source": [
    "history1 = model.fit(X_train, y_train,\n",
    "                     batch_size = batch_size,\n",
    "                     epochs = training_epochs,\n",
    "                     verbose = 2,\n",
    "                     validation_data=(X_cv, y_cv))"
   ]
  },
  {
   "cell_type": "code",
   "execution_count": 18,
   "id": "623bb2e9",
   "metadata": {},
   "outputs": [
    {
     "name": "stdout",
     "output_type": "stream",
     "text": [
      "Epoch 1/20\n",
      "336/336 - 3s - loss: 0.3362 - accuracy: 0.8988 - val_loss: 0.1492 - val_accuracy: 0.9531 - 3s/epoch - 9ms/step\n",
      "Epoch 2/20\n",
      "336/336 - 2s - loss: 0.1213 - accuracy: 0.9624 - val_loss: 0.1044 - val_accuracy: 0.9693 - 2s/epoch - 5ms/step\n",
      "Epoch 3/20\n",
      "336/336 - 2s - loss: 0.0789 - accuracy: 0.9756 - val_loss: 0.0943 - val_accuracy: 0.9723 - 2s/epoch - 5ms/step\n",
      "Epoch 4/20\n",
      "336/336 - 2s - loss: 0.0568 - accuracy: 0.9818 - val_loss: 0.1134 - val_accuracy: 0.9656 - 2s/epoch - 5ms/step\n",
      "Epoch 5/20\n",
      "336/336 - 2s - loss: 0.0431 - accuracy: 0.9864 - val_loss: 0.1012 - val_accuracy: 0.9723 - 2s/epoch - 5ms/step\n",
      "Epoch 6/20\n",
      "336/336 - 2s - loss: 0.0352 - accuracy: 0.9886 - val_loss: 0.0946 - val_accuracy: 0.9749 - 2s/epoch - 5ms/step\n",
      "Epoch 7/20\n",
      "336/336 - 2s - loss: 0.0309 - accuracy: 0.9897 - val_loss: 0.0873 - val_accuracy: 0.9765 - 2s/epoch - 5ms/step\n",
      "Epoch 8/20\n",
      "336/336 - 2s - loss: 0.0206 - accuracy: 0.9928 - val_loss: 0.1041 - val_accuracy: 0.9756 - 2s/epoch - 5ms/step\n",
      "Epoch 9/20\n",
      "336/336 - 2s - loss: 0.0267 - accuracy: 0.9909 - val_loss: 0.1053 - val_accuracy: 0.9762 - 2s/epoch - 5ms/step\n",
      "Epoch 10/20\n",
      "336/336 - 2s - loss: 0.0202 - accuracy: 0.9939 - val_loss: 0.1285 - val_accuracy: 0.9711 - 2s/epoch - 5ms/step\n",
      "Epoch 11/20\n",
      "336/336 - 2s - loss: 0.0174 - accuracy: 0.9942 - val_loss: 0.1478 - val_accuracy: 0.9670 - 2s/epoch - 5ms/step\n",
      "Epoch 12/20\n",
      "336/336 - 2s - loss: 0.0233 - accuracy: 0.9921 - val_loss: 0.1099 - val_accuracy: 0.9745 - 2s/epoch - 5ms/step\n",
      "Epoch 13/20\n",
      "336/336 - 2s - loss: 0.0165 - accuracy: 0.9948 - val_loss: 0.1112 - val_accuracy: 0.9756 - 2s/epoch - 5ms/step\n",
      "Epoch 14/20\n",
      "336/336 - 2s - loss: 0.0168 - accuracy: 0.9945 - val_loss: 0.1080 - val_accuracy: 0.9768 - 2s/epoch - 5ms/step\n",
      "Epoch 15/20\n",
      "336/336 - 2s - loss: 0.0094 - accuracy: 0.9968 - val_loss: 0.1181 - val_accuracy: 0.9769 - 2s/epoch - 5ms/step\n",
      "Epoch 16/20\n",
      "336/336 - 2s - loss: 0.0162 - accuracy: 0.9951 - val_loss: 0.1185 - val_accuracy: 0.9740 - 2s/epoch - 5ms/step\n",
      "Epoch 17/20\n",
      "336/336 - 2s - loss: 0.0138 - accuracy: 0.9951 - val_loss: 0.1131 - val_accuracy: 0.9773 - 2s/epoch - 5ms/step\n",
      "Epoch 18/20\n",
      "336/336 - 2s - loss: 0.0145 - accuracy: 0.9957 - val_loss: 0.1182 - val_accuracy: 0.9763 - 2s/epoch - 5ms/step\n",
      "Epoch 19/20\n",
      "336/336 - 2s - loss: 0.0132 - accuracy: 0.9954 - val_loss: 0.1169 - val_accuracy: 0.9777 - 2s/epoch - 5ms/step\n",
      "Epoch 20/20\n",
      "336/336 - 2s - loss: 0.0085 - accuracy: 0.9977 - val_loss: 0.1318 - val_accuracy: 0.9755 - 2s/epoch - 5ms/step\n"
     ]
    }
   ],
   "source": [
    "Inp = Input(shape=(784,))\n",
    "x = Dense(n_hidden_1, activation='relu', name = \"Hidden_Layer_1\")(Inp)\n",
    "x = Dense(n_hidden_2, activation='relu', name = \"Hidden_Layer_2\")(x)\n",
    "x = Dense(n_hidden_3, activation='relu', name = \"Hidden_Layer_3\")(x)\n",
    "x = Dense(n_hidden_4, activation='relu', name = \"Hidden_Layer_4\")(x)\n",
    "output = Dense(num_digits, activation='softmax', name = \"Output_Layer\")(x)\n",
    "\n",
    "adam = keras.optimizers.Adam(learning_rate=learning_rate)\n",
    "model2 = Model(Inp, output)\n",
    "\n",
    "model2.compile(loss='categorical_crossentropy',\n",
    "              optimizer='adam',\n",
    "              metrics=['accuracy'])\n",
    "history2 = model2.fit(X_train, y_train,\n",
    "                      batch_size = batch_size,\n",
    "                      epochs = training_epochs,\n",
    "                      verbose = 2,\n",
    "                      validation_data=(X_cv, y_cv))"
   ]
  },
  {
   "cell_type": "code",
   "execution_count": 19,
   "id": "0330f637",
   "metadata": {},
   "outputs": [
    {
     "name": "stdout",
     "output_type": "stream",
     "text": [
      "Epoch 1/20\n",
      "336/336 - 3s - loss: 0.3297 - accuracy: 0.9025 - val_loss: 0.1730 - val_accuracy: 0.9467 - 3s/epoch - 8ms/step\n",
      "Epoch 2/20\n",
      "336/336 - 2s - loss: 0.1232 - accuracy: 0.9616 - val_loss: 0.1130 - val_accuracy: 0.9636 - 2s/epoch - 5ms/step\n",
      "Epoch 3/20\n",
      "336/336 - 2s - loss: 0.0796 - accuracy: 0.9759 - val_loss: 0.1035 - val_accuracy: 0.9677 - 2s/epoch - 5ms/step\n",
      "Epoch 4/20\n",
      "336/336 - 2s - loss: 0.0578 - accuracy: 0.9820 - val_loss: 0.0951 - val_accuracy: 0.9717 - 2s/epoch - 5ms/step\n",
      "Epoch 5/20\n",
      "336/336 - 2s - loss: 0.0443 - accuracy: 0.9862 - val_loss: 0.0952 - val_accuracy: 0.9735 - 2s/epoch - 5ms/step\n",
      "Epoch 6/20\n",
      "336/336 - 2s - loss: 0.0335 - accuracy: 0.9890 - val_loss: 0.0953 - val_accuracy: 0.9739 - 2s/epoch - 5ms/step\n",
      "Epoch 7/20\n",
      "336/336 - 2s - loss: 0.0284 - accuracy: 0.9911 - val_loss: 0.1146 - val_accuracy: 0.9704 - 2s/epoch - 5ms/step\n",
      "Epoch 8/20\n",
      "336/336 - 2s - loss: 0.0239 - accuracy: 0.9920 - val_loss: 0.1165 - val_accuracy: 0.9718 - 2s/epoch - 5ms/step\n",
      "Epoch 9/20\n",
      "336/336 - 2s - loss: 0.0227 - accuracy: 0.9921 - val_loss: 0.1014 - val_accuracy: 0.9748 - 2s/epoch - 5ms/step\n",
      "Epoch 10/20\n",
      "336/336 - 2s - loss: 0.0191 - accuracy: 0.9934 - val_loss: 0.0929 - val_accuracy: 0.9782 - 2s/epoch - 5ms/step\n",
      "Epoch 11/20\n",
      "336/336 - 2s - loss: 0.0209 - accuracy: 0.9934 - val_loss: 0.1220 - val_accuracy: 0.9717 - 2s/epoch - 5ms/step\n",
      "Epoch 12/20\n",
      "336/336 - 2s - loss: 0.0207 - accuracy: 0.9931 - val_loss: 0.1076 - val_accuracy: 0.9754 - 2s/epoch - 5ms/step\n",
      "Epoch 13/20\n",
      "336/336 - 2s - loss: 0.0133 - accuracy: 0.9957 - val_loss: 0.1189 - val_accuracy: 0.9737 - 2s/epoch - 5ms/step\n",
      "Epoch 14/20\n",
      "336/336 - 2s - loss: 0.0169 - accuracy: 0.9944 - val_loss: 0.1050 - val_accuracy: 0.9768 - 2s/epoch - 5ms/step\n",
      "Epoch 15/20\n",
      "336/336 - 2s - loss: 0.0147 - accuracy: 0.9950 - val_loss: 0.1239 - val_accuracy: 0.9756 - 2s/epoch - 5ms/step\n",
      "Epoch 16/20\n",
      "336/336 - 2s - loss: 0.0181 - accuracy: 0.9946 - val_loss: 0.1191 - val_accuracy: 0.9715 - 2s/epoch - 5ms/step\n",
      "Epoch 17/20\n",
      "336/336 - 2s - loss: 0.0099 - accuracy: 0.9966 - val_loss: 0.1045 - val_accuracy: 0.9783 - 2s/epoch - 5ms/step\n",
      "Epoch 18/20\n",
      "336/336 - 2s - loss: 0.0095 - accuracy: 0.9969 - val_loss: 0.1231 - val_accuracy: 0.9763 - 2s/epoch - 5ms/step\n",
      "Epoch 19/20\n",
      "336/336 - 2s - loss: 0.0113 - accuracy: 0.9967 - val_loss: 0.1471 - val_accuracy: 0.9726 - 2s/epoch - 5ms/step\n",
      "Epoch 20/20\n",
      "336/336 - 2s - loss: 0.0093 - accuracy: 0.9977 - val_loss: 0.1166 - val_accuracy: 0.9781 - 2s/epoch - 5ms/step\n"
     ]
    }
   ],
   "source": [
    "Inp = Input(shape=(784,))\n",
    "x = Dense(n_hidden_1, activation='relu', name = \"Hidden_Layer_1\")(Inp)\n",
    "x = Dense(n_hidden_2, activation='relu', name = \"Hidden_Layer_2\")(x)\n",
    "x = Dense(n_hidden_3, activation='relu', name = \"Hidden_Layer_3\")(x)\n",
    "x = Dense(n_hidden_4, activation='relu', name = \"Hidden_Layer_4\")(x)\n",
    "output = Dense(num_digits, activation='softmax', name = \"Output_Layer\")(x)\n",
    "\n",
    "learning_rate = 0.01\n",
    "adam = keras.optimizers.Adam(learning_rate=learning_rate)\n",
    "model2a = Model(Inp, output)\n",
    "\n",
    "model2a.compile(loss='categorical_crossentropy',\n",
    "              optimizer='adam',\n",
    "              metrics=['accuracy'])\n",
    "history2a = model2a.fit(X_train, y_train,\n",
    "                        batch_size = batch_size,\n",
    "                        epochs = training_epochs,\n",
    "                        verbose = 2,\n",
    "                        validation_data=(X_cv, y_cv))"
   ]
  },
  {
   "cell_type": "code",
   "execution_count": 20,
   "id": "1c602d32",
   "metadata": {},
   "outputs": [],
   "source": [
    "Inp = Input(shape=(784,))\n",
    "x = Dense(n_hidden_1, activation='relu', name = \"Hidden_Layer_1\")(Inp)\n",
    "x = Dense(n_hidden_2, activation='relu', name = \"Hidden_Layer_2\")(x)\n",
    "x = Dense(n_hidden_3, activation='relu', name = \"Hidden_Layer_3\")(x)\n",
    "x = Dense(n_hidden_4, activation='relu', name = \"Hidden_Layer_4\")(x)\n",
    "output = Dense(num_digits, activation='softmax', name = \"Output_Layer\")(x)\n",
    "\n",
    "learning_rate = 0.5\n",
    "adam = keras.optimizers.Adam(learning_rate=learning_rate)\n",
    "model2b = Model(Inp, output)\n",
    "\n",
    "model2b.compile(loss='categorical_crossentropy',\n",
    "              optimizer='adam',\n",
    "              metrics=['accuracy'])\n"
   ]
  },
  {
   "cell_type": "code",
   "execution_count": 21,
   "id": "811c952e",
   "metadata": {},
   "outputs": [
    {
     "name": "stdout",
     "output_type": "stream",
     "text": [
      "Epoch 1/20\n",
      "336/336 [==============================] - 3s 6ms/step - loss: 0.3248 - accuracy: 0.9046 - val_loss: 0.1473 - val_accuracy: 0.9552\n",
      "Epoch 2/20\n",
      "336/336 [==============================] - 2s 5ms/step - loss: 0.1192 - accuracy: 0.9634 - val_loss: 0.1291 - val_accuracy: 0.9607\n",
      "Epoch 3/20\n",
      "336/336 [==============================] - 2s 5ms/step - loss: 0.0796 - accuracy: 0.9749 - val_loss: 0.1179 - val_accuracy: 0.9660\n",
      "Epoch 4/20\n",
      "336/336 [==============================] - 2s 5ms/step - loss: 0.0567 - accuracy: 0.9820 - val_loss: 0.0987 - val_accuracy: 0.9695\n",
      "Epoch 5/20\n",
      "336/336 [==============================] - 2s 5ms/step - loss: 0.0474 - accuracy: 0.9852 - val_loss: 0.0872 - val_accuracy: 0.9746\n",
      "Epoch 6/20\n",
      "336/336 [==============================] - 2s 5ms/step - loss: 0.0327 - accuracy: 0.9894 - val_loss: 0.1237 - val_accuracy: 0.9685\n",
      "Epoch 7/20\n",
      "336/336 [==============================] - 2s 5ms/step - loss: 0.0324 - accuracy: 0.9896 - val_loss: 0.1084 - val_accuracy: 0.9711\n",
      "Epoch 8/20\n",
      "336/336 [==============================] - 2s 5ms/step - loss: 0.0283 - accuracy: 0.9908 - val_loss: 0.1080 - val_accuracy: 0.9717\n",
      "Epoch 9/20\n",
      "336/336 [==============================] - 2s 5ms/step - loss: 0.0213 - accuracy: 0.9934 - val_loss: 0.1162 - val_accuracy: 0.9714\n",
      "Epoch 10/20\n",
      "336/336 [==============================] - 2s 5ms/step - loss: 0.0203 - accuracy: 0.9928 - val_loss: 0.1293 - val_accuracy: 0.9706\n",
      "Epoch 11/20\n",
      "336/336 [==============================] - 2s 5ms/step - loss: 0.0204 - accuracy: 0.9934 - val_loss: 0.1141 - val_accuracy: 0.9750\n",
      "Epoch 12/20\n",
      "336/336 [==============================] - 2s 5ms/step - loss: 0.0192 - accuracy: 0.9937 - val_loss: 0.1002 - val_accuracy: 0.9771\n",
      "Epoch 13/20\n",
      "336/336 [==============================] - 2s 5ms/step - loss: 0.0167 - accuracy: 0.9945 - val_loss: 0.1027 - val_accuracy: 0.9751\n",
      "Epoch 14/20\n",
      "336/336 [==============================] - 2s 5ms/step - loss: 0.0191 - accuracy: 0.9936 - val_loss: 0.1147 - val_accuracy: 0.9738\n",
      "Epoch 15/20\n",
      "336/336 [==============================] - 2s 5ms/step - loss: 0.0176 - accuracy: 0.9940 - val_loss: 0.1110 - val_accuracy: 0.9755\n",
      "Epoch 16/20\n",
      "336/336 [==============================] - 2s 5ms/step - loss: 0.0091 - accuracy: 0.9973 - val_loss: 0.0992 - val_accuracy: 0.9811\n",
      "Epoch 17/20\n",
      "336/336 [==============================] - 2s 5ms/step - loss: 0.0085 - accuracy: 0.9972 - val_loss: 0.1083 - val_accuracy: 0.9768\n",
      "Epoch 18/20\n",
      "336/336 [==============================] - 2s 5ms/step - loss: 0.0148 - accuracy: 0.9954 - val_loss: 0.1021 - val_accuracy: 0.9771\n",
      "Epoch 19/20\n",
      "336/336 [==============================] - 2s 5ms/step - loss: 0.0138 - accuracy: 0.9958 - val_loss: 0.1127 - val_accuracy: 0.9758\n",
      "Epoch 20/20\n",
      "336/336 [==============================] - 2s 5ms/step - loss: 0.0129 - accuracy: 0.9961 - val_loss: 0.1178 - val_accuracy: 0.9760\n"
     ]
    }
   ],
   "source": [
    "history2b = model2b.fit(X_train, y_train,\n",
    "                        batch_size = batch_size,\n",
    "                        epochs = training_epochs,\n",
    "                            validation_data=(X_cv, y_cv))"
   ]
  },
  {
   "cell_type": "code",
   "execution_count": 22,
   "id": "187cf800",
   "metadata": {},
   "outputs": [],
   "source": [
    "\n",
    "n_input = 784\n",
    "n_hidden_1 = 300\n",
    "n_hidden_2 = 100\n",
    "n_hidden_3 = 100\n",
    "n_hidden_4 = 100\n",
    "n_hidden_5 = 200\n",
    "num_digits = 10"
   ]
  },
  {
   "cell_type": "code",
   "execution_count": 23,
   "id": "346868ee",
   "metadata": {},
   "outputs": [],
   "source": [
    "Inp = Input(shape=(784,))\n",
    "x = Dense(n_hidden_1, activation='relu', name = \"Hidden_Layer_1\")(Inp)\n",
    "x = Dense(n_hidden_2, activation='relu', name = \"Hidden_Layer_2\")(x)\n",
    "x = Dense(n_hidden_3, activation='relu', name = \"Hidden_Layer_3\")(x)\n",
    "x = Dense(n_hidden_4, activation='relu', name = \"Hidden_Layer_4\")(x)\n",
    "x = Dense(n_hidden_5, activation='relu', name = \"Hidden_Layer_5\")(x)\n",
    "output = Dense(num_digits, activation='softmax', name = \"Output_Layer\")(x)"
   ]
  },
  {
   "cell_type": "code",
   "execution_count": 24,
   "id": "8df5e8b2",
   "metadata": {},
   "outputs": [
    {
     "name": "stdout",
     "output_type": "stream",
     "text": [
      "Model: \"model_4\"\n",
      "_________________________________________________________________\n",
      " Layer (type)                Output Shape              Param #   \n",
      "=================================================================\n",
      " input_5 (InputLayer)        [(None, 784)]             0         \n",
      "                                                                 \n",
      " Hidden_Layer_1 (Dense)      (None, 300)               235500    \n",
      "                                                                 \n",
      " Hidden_Layer_2 (Dense)      (None, 100)               30100     \n",
      "                                                                 \n",
      " Hidden_Layer_3 (Dense)      (None, 100)               10100     \n",
      "                                                                 \n",
      " Hidden_Layer_4 (Dense)      (None, 100)               10100     \n",
      "                                                                 \n",
      " Hidden_Layer_5 (Dense)      (None, 200)               20200     \n",
      "                                                                 \n",
      " Output_Layer (Dense)        (None, 10)                2010      \n",
      "                                                                 \n",
      "=================================================================\n",
      "Total params: 308010 (1.17 MB)\n",
      "Trainable params: 308010 (1.17 MB)\n",
      "Non-trainable params: 0 (0.00 Byte)\n",
      "_________________________________________________________________\n"
     ]
    }
   ],
   "source": [
    "model3 = Model(Inp, output)\n",
    "model3.summary()"
   ]
  },
  {
   "cell_type": "code",
   "execution_count": 25,
   "id": "cbc47b34",
   "metadata": {},
   "outputs": [
    {
     "name": "stdout",
     "output_type": "stream",
     "text": [
      "Epoch 1/20\n",
      "336/336 [==============================] - 3s 6ms/step - loss: 0.3545 - accuracy: 0.8923 - val_loss: 0.1527 - val_accuracy: 0.9546\n",
      "Epoch 2/20\n",
      "336/336 [==============================] - 2s 5ms/step - loss: 0.1280 - accuracy: 0.9611 - val_loss: 0.1261 - val_accuracy: 0.9630\n",
      "Epoch 3/20\n",
      "336/336 [==============================] - 2s 5ms/step - loss: 0.0884 - accuracy: 0.9725 - val_loss: 0.1068 - val_accuracy: 0.9683\n",
      "Epoch 4/20\n",
      "336/336 [==============================] - 2s 5ms/step - loss: 0.0614 - accuracy: 0.9809 - val_loss: 0.0950 - val_accuracy: 0.9715\n",
      "Epoch 5/20\n",
      "336/336 [==============================] - 2s 5ms/step - loss: 0.0494 - accuracy: 0.9851 - val_loss: 0.1116 - val_accuracy: 0.9695\n",
      "Epoch 6/20\n",
      "336/336 [==============================] - 2s 5ms/step - loss: 0.0433 - accuracy: 0.9859 - val_loss: 0.1086 - val_accuracy: 0.9711\n",
      "Epoch 7/20\n",
      "336/336 [==============================] - 2s 5ms/step - loss: 0.0348 - accuracy: 0.9891 - val_loss: 0.1112 - val_accuracy: 0.9708\n",
      "Epoch 8/20\n",
      "336/336 [==============================] - 2s 5ms/step - loss: 0.0289 - accuracy: 0.9907 - val_loss: 0.1200 - val_accuracy: 0.9715\n",
      "Epoch 9/20\n",
      "336/336 [==============================] - 2s 5ms/step - loss: 0.0356 - accuracy: 0.9883 - val_loss: 0.1016 - val_accuracy: 0.9742\n",
      "Epoch 10/20\n",
      "336/336 [==============================] - 2s 5ms/step - loss: 0.0254 - accuracy: 0.9918 - val_loss: 0.1046 - val_accuracy: 0.9733\n",
      "Epoch 11/20\n",
      "336/336 [==============================] - 2s 5ms/step - loss: 0.0207 - accuracy: 0.9933 - val_loss: 0.1013 - val_accuracy: 0.9769\n",
      "Epoch 12/20\n",
      "336/336 [==============================] - 2s 5ms/step - loss: 0.0195 - accuracy: 0.9944 - val_loss: 0.1191 - val_accuracy: 0.9730\n",
      "Epoch 13/20\n",
      "336/336 [==============================] - 2s 5ms/step - loss: 0.0179 - accuracy: 0.9946 - val_loss: 0.1104 - val_accuracy: 0.9752\n",
      "Epoch 14/20\n",
      "336/336 [==============================] - 2s 5ms/step - loss: 0.0198 - accuracy: 0.9934 - val_loss: 0.1398 - val_accuracy: 0.9704\n",
      "Epoch 15/20\n",
      "336/336 [==============================] - 2s 5ms/step - loss: 0.0160 - accuracy: 0.9952 - val_loss: 0.1166 - val_accuracy: 0.9764\n",
      "Epoch 16/20\n",
      "336/336 [==============================] - 2s 5ms/step - loss: 0.0165 - accuracy: 0.9951 - val_loss: 0.1215 - val_accuracy: 0.9761\n",
      "Epoch 17/20\n",
      "336/336 [==============================] - 2s 5ms/step - loss: 0.0134 - accuracy: 0.9960 - val_loss: 0.1139 - val_accuracy: 0.9782\n",
      "Epoch 18/20\n",
      "336/336 [==============================] - 2s 6ms/step - loss: 0.0111 - accuracy: 0.9962 - val_loss: 0.1247 - val_accuracy: 0.9765\n",
      "Epoch 19/20\n",
      "336/336 [==============================] - 2s 6ms/step - loss: 0.0181 - accuracy: 0.9947 - val_loss: 0.1071 - val_accuracy: 0.9773\n",
      "Epoch 20/20\n",
      "336/336 [==============================] - 2s 5ms/step - loss: 0.0133 - accuracy: 0.9961 - val_loss: 0.1579 - val_accuracy: 0.9665\n"
     ]
    }
   ],
   "source": [
    "adam = keras.optimizers.Adam(learning_rate=0.01)\n",
    "\n",
    "model3.compile(loss='categorical_crossentropy',\n",
    "              optimizer='adam',\n",
    "              metrics=['accuracy'])\n",
    "history3 = model3.fit(X_train, y_train,\n",
    "                      batch_size = batch_size,\n",
    "                      epochs = training_epochs,\n",
    "                      validation_data=(X_cv, y_cv))"
   ]
  },
  {
   "cell_type": "code",
   "execution_count": 26,
   "id": "dedbd78c",
   "metadata": {},
   "outputs": [
    {
     "name": "stdout",
     "output_type": "stream",
     "text": [
      "Model: \"model_5\"\n",
      "_________________________________________________________________\n",
      " Layer (type)                Output Shape              Param #   \n",
      "=================================================================\n",
      " input_6 (InputLayer)        [(None, 784)]             0         \n",
      "                                                                 \n",
      " Hidden_Layer_1 (Dense)      (None, 300)               235500    \n",
      "                                                                 \n",
      " dropout (Dropout)           (None, 300)               0         \n",
      "                                                                 \n",
      " Hidden_Layer_2 (Dense)      (None, 100)               30100     \n",
      "                                                                 \n",
      " dropout_1 (Dropout)         (None, 100)               0         \n",
      "                                                                 \n",
      " Hidden_Layer_3 (Dense)      (None, 100)               10100     \n",
      "                                                                 \n",
      " dropout_2 (Dropout)         (None, 100)               0         \n",
      "                                                                 \n",
      " Hidden_Layer_4 (Dense)      (None, 200)               20200     \n",
      "                                                                 \n",
      " Output_Layer (Dense)        (None, 10)                2010      \n",
      "                                                                 \n",
      "=================================================================\n",
      "Total params: 297910 (1.14 MB)\n",
      "Trainable params: 297910 (1.14 MB)\n",
      "Non-trainable params: 0 (0.00 Byte)\n",
      "_________________________________________________________________\n"
     ]
    }
   ],
   "source": [
    "n_input = 784 # number of features\n",
    "n_hidden_1 = 300\n",
    "n_hidden_2 = 100\n",
    "n_hidden_3 = 100\n",
    "n_hidden_4 = 200\n",
    "num_digits = 10\n",
    "Inp = Input(shape=(784,))\n",
    "x = Dense(n_hidden_1, activation='relu', name = \"Hidden_Layer_1\")(Inp)\n",
    "x = Dropout(0.3)(x)\n",
    "x = Dense(n_hidden_2, activation='relu', name = \"Hidden_Layer_2\")(x)\n",
    "x = Dropout(0.3)(x)\n",
    "x = Dense(n_hidden_3, activation='relu', name = \"Hidden_Layer_3\")(x)\n",
    "x = Dropout(0.3)(x)\n",
    "x = Dense(n_hidden_4, activation='relu', name = \"Hidden_Layer_4\")(x)\n",
    "output = Dense(num_digits, activation='softmax', name = \"Output_Layer\")(x)\n",
    "\n",
    "model4.summary()"
   ]
  },
  {
   "cell_type": "code",
   "execution_count": 31,
   "id": "f65c0a0d",
   "metadata": {},
   "outputs": [],
   "source": [
    "import h5py\n",
    "\n",
    "with h5py.File('C:\\\\Users\\\\91888\\\\Downloads\\\\xyx\\\\Lib\\\\site-packages\\\\tensorflow\\\\python\\\\keras\\\\saving\\\\__pycache__\\\\hdf5_format.cpython-311.pyc', 'w') as file:\n",
    "    dataset = file.create_dataset('data', shape=(10, 10), dtype='float32')\n",
    "    dataset[...] = 42.0\n"
   ]
  },
  {
   "cell_type": "code",
   "execution_count": 34,
   "id": "f0172d57",
   "metadata": {},
   "outputs": [],
   "source": [
    "import numpy as np\n",
    "import pandas as pd \n",
    "\n",
    "\n",
    "import os\n",
    "for dirname, _, filenames in os.walk('/kaggle/input'):\n",
    "    for filename in filenames:\n",
    "        print(os.path.join(dirname, filename))\n"
   ]
  },
  {
   "cell_type": "code",
   "execution_count": 35,
   "id": "edeeb9c5",
   "metadata": {},
   "outputs": [],
   "source": [
    "import pandas as pd\n",
    "import numpy as np\n",
    "import seaborn as sns\n",
    "import matplotlib.pyplot as plt\n",
    "from sklearn.ensemble import RandomForestClassifier\n",
    "from sklearn.metrics import accuracy_score,classification_report,confusion_matrix"
   ]
  },
  {
   "cell_type": "code",
   "execution_count": 36,
   "id": "5e3ba49e",
   "metadata": {},
   "outputs": [
    {
     "data": {
      "text/html": [
       "<div>\n",
       "<style scoped>\n",
       "    .dataframe tbody tr th:only-of-type {\n",
       "        vertical-align: middle;\n",
       "    }\n",
       "\n",
       "    .dataframe tbody tr th {\n",
       "        vertical-align: top;\n",
       "    }\n",
       "\n",
       "    .dataframe thead th {\n",
       "        text-align: right;\n",
       "    }\n",
       "</style>\n",
       "<table border=\"1\" class=\"dataframe\">\n",
       "  <thead>\n",
       "    <tr style=\"text-align: right;\">\n",
       "      <th></th>\n",
       "      <th>label</th>\n",
       "      <th>pixel0</th>\n",
       "      <th>pixel1</th>\n",
       "      <th>pixel2</th>\n",
       "      <th>pixel3</th>\n",
       "      <th>pixel4</th>\n",
       "      <th>pixel5</th>\n",
       "      <th>pixel6</th>\n",
       "      <th>pixel7</th>\n",
       "      <th>pixel8</th>\n",
       "      <th>...</th>\n",
       "      <th>pixel774</th>\n",
       "      <th>pixel775</th>\n",
       "      <th>pixel776</th>\n",
       "      <th>pixel777</th>\n",
       "      <th>pixel778</th>\n",
       "      <th>pixel779</th>\n",
       "      <th>pixel780</th>\n",
       "      <th>pixel781</th>\n",
       "      <th>pixel782</th>\n",
       "      <th>pixel783</th>\n",
       "    </tr>\n",
       "  </thead>\n",
       "  <tbody>\n",
       "    <tr>\n",
       "      <th>0</th>\n",
       "      <td>1</td>\n",
       "      <td>0</td>\n",
       "      <td>0</td>\n",
       "      <td>0</td>\n",
       "      <td>0</td>\n",
       "      <td>0</td>\n",
       "      <td>0</td>\n",
       "      <td>0</td>\n",
       "      <td>0</td>\n",
       "      <td>0</td>\n",
       "      <td>...</td>\n",
       "      <td>0</td>\n",
       "      <td>0</td>\n",
       "      <td>0</td>\n",
       "      <td>0</td>\n",
       "      <td>0</td>\n",
       "      <td>0</td>\n",
       "      <td>0</td>\n",
       "      <td>0</td>\n",
       "      <td>0</td>\n",
       "      <td>0</td>\n",
       "    </tr>\n",
       "    <tr>\n",
       "      <th>1</th>\n",
       "      <td>0</td>\n",
       "      <td>0</td>\n",
       "      <td>0</td>\n",
       "      <td>0</td>\n",
       "      <td>0</td>\n",
       "      <td>0</td>\n",
       "      <td>0</td>\n",
       "      <td>0</td>\n",
       "      <td>0</td>\n",
       "      <td>0</td>\n",
       "      <td>...</td>\n",
       "      <td>0</td>\n",
       "      <td>0</td>\n",
       "      <td>0</td>\n",
       "      <td>0</td>\n",
       "      <td>0</td>\n",
       "      <td>0</td>\n",
       "      <td>0</td>\n",
       "      <td>0</td>\n",
       "      <td>0</td>\n",
       "      <td>0</td>\n",
       "    </tr>\n",
       "    <tr>\n",
       "      <th>2</th>\n",
       "      <td>1</td>\n",
       "      <td>0</td>\n",
       "      <td>0</td>\n",
       "      <td>0</td>\n",
       "      <td>0</td>\n",
       "      <td>0</td>\n",
       "      <td>0</td>\n",
       "      <td>0</td>\n",
       "      <td>0</td>\n",
       "      <td>0</td>\n",
       "      <td>...</td>\n",
       "      <td>0</td>\n",
       "      <td>0</td>\n",
       "      <td>0</td>\n",
       "      <td>0</td>\n",
       "      <td>0</td>\n",
       "      <td>0</td>\n",
       "      <td>0</td>\n",
       "      <td>0</td>\n",
       "      <td>0</td>\n",
       "      <td>0</td>\n",
       "    </tr>\n",
       "    <tr>\n",
       "      <th>3</th>\n",
       "      <td>4</td>\n",
       "      <td>0</td>\n",
       "      <td>0</td>\n",
       "      <td>0</td>\n",
       "      <td>0</td>\n",
       "      <td>0</td>\n",
       "      <td>0</td>\n",
       "      <td>0</td>\n",
       "      <td>0</td>\n",
       "      <td>0</td>\n",
       "      <td>...</td>\n",
       "      <td>0</td>\n",
       "      <td>0</td>\n",
       "      <td>0</td>\n",
       "      <td>0</td>\n",
       "      <td>0</td>\n",
       "      <td>0</td>\n",
       "      <td>0</td>\n",
       "      <td>0</td>\n",
       "      <td>0</td>\n",
       "      <td>0</td>\n",
       "    </tr>\n",
       "    <tr>\n",
       "      <th>4</th>\n",
       "      <td>0</td>\n",
       "      <td>0</td>\n",
       "      <td>0</td>\n",
       "      <td>0</td>\n",
       "      <td>0</td>\n",
       "      <td>0</td>\n",
       "      <td>0</td>\n",
       "      <td>0</td>\n",
       "      <td>0</td>\n",
       "      <td>0</td>\n",
       "      <td>...</td>\n",
       "      <td>0</td>\n",
       "      <td>0</td>\n",
       "      <td>0</td>\n",
       "      <td>0</td>\n",
       "      <td>0</td>\n",
       "      <td>0</td>\n",
       "      <td>0</td>\n",
       "      <td>0</td>\n",
       "      <td>0</td>\n",
       "      <td>0</td>\n",
       "    </tr>\n",
       "  </tbody>\n",
       "</table>\n",
       "<p>5 rows × 785 columns</p>\n",
       "</div>"
      ],
      "text/plain": [
       "   label  pixel0  pixel1  pixel2  pixel3  pixel4  pixel5  pixel6  pixel7  \\\n",
       "0      1       0       0       0       0       0       0       0       0   \n",
       "1      0       0       0       0       0       0       0       0       0   \n",
       "2      1       0       0       0       0       0       0       0       0   \n",
       "3      4       0       0       0       0       0       0       0       0   \n",
       "4      0       0       0       0       0       0       0       0       0   \n",
       "\n",
       "   pixel8  ...  pixel774  pixel775  pixel776  pixel777  pixel778  pixel779  \\\n",
       "0       0  ...         0         0         0         0         0         0   \n",
       "1       0  ...         0         0         0         0         0         0   \n",
       "2       0  ...         0         0         0         0         0         0   \n",
       "3       0  ...         0         0         0         0         0         0   \n",
       "4       0  ...         0         0         0         0         0         0   \n",
       "\n",
       "   pixel780  pixel781  pixel782  pixel783  \n",
       "0         0         0         0         0  \n",
       "1         0         0         0         0  \n",
       "2         0         0         0         0  \n",
       "3         0         0         0         0  \n",
       "4         0         0         0         0  \n",
       "\n",
       "[5 rows x 785 columns]"
      ]
     },
     "execution_count": 36,
     "metadata": {},
     "output_type": "execute_result"
    }
   ],
   "source": [
    "train_data=pd.read_csv('train.csv')\n",
    "train_data.head()"
   ]
  },
  {
   "cell_type": "code",
   "execution_count": 37,
   "id": "abd20dd8",
   "metadata": {},
   "outputs": [
    {
     "data": {
      "text/plain": [
       "(42000, 785)"
      ]
     },
     "execution_count": 37,
     "metadata": {},
     "output_type": "execute_result"
    }
   ],
   "source": [
    "train_data.shape"
   ]
  },
  {
   "cell_type": "code",
   "execution_count": 58,
   "id": "66b4bd77",
   "metadata": {},
   "outputs": [
    {
     "data": {
      "text/html": [
       "<div>\n",
       "<style scoped>\n",
       "    .dataframe tbody tr th:only-of-type {\n",
       "        vertical-align: middle;\n",
       "    }\n",
       "\n",
       "    .dataframe tbody tr th {\n",
       "        vertical-align: top;\n",
       "    }\n",
       "\n",
       "    .dataframe thead th {\n",
       "        text-align: right;\n",
       "    }\n",
       "</style>\n",
       "<table border=\"1\" class=\"dataframe\">\n",
       "  <thead>\n",
       "    <tr style=\"text-align: right;\">\n",
       "      <th></th>\n",
       "      <th>label</th>\n",
       "      <th>pixel0</th>\n",
       "      <th>pixel1</th>\n",
       "      <th>pixel2</th>\n",
       "      <th>pixel3</th>\n",
       "      <th>pixel4</th>\n",
       "      <th>pixel5</th>\n",
       "      <th>pixel6</th>\n",
       "      <th>pixel7</th>\n",
       "      <th>pixel8</th>\n",
       "      <th>...</th>\n",
       "      <th>pixel774</th>\n",
       "      <th>pixel775</th>\n",
       "      <th>pixel776</th>\n",
       "      <th>pixel777</th>\n",
       "      <th>pixel778</th>\n",
       "      <th>pixel779</th>\n",
       "      <th>pixel780</th>\n",
       "      <th>pixel781</th>\n",
       "      <th>pixel782</th>\n",
       "      <th>pixel783</th>\n",
       "    </tr>\n",
       "  </thead>\n",
       "  <tbody>\n",
       "    <tr>\n",
       "      <th>0</th>\n",
       "      <td>1</td>\n",
       "      <td>0</td>\n",
       "      <td>0</td>\n",
       "      <td>0</td>\n",
       "      <td>0</td>\n",
       "      <td>0</td>\n",
       "      <td>0</td>\n",
       "      <td>0</td>\n",
       "      <td>0</td>\n",
       "      <td>0</td>\n",
       "      <td>...</td>\n",
       "      <td>0</td>\n",
       "      <td>0</td>\n",
       "      <td>0</td>\n",
       "      <td>0</td>\n",
       "      <td>0</td>\n",
       "      <td>0</td>\n",
       "      <td>0</td>\n",
       "      <td>0</td>\n",
       "      <td>0</td>\n",
       "      <td>0</td>\n",
       "    </tr>\n",
       "    <tr>\n",
       "      <th>1</th>\n",
       "      <td>0</td>\n",
       "      <td>0</td>\n",
       "      <td>0</td>\n",
       "      <td>0</td>\n",
       "      <td>0</td>\n",
       "      <td>0</td>\n",
       "      <td>0</td>\n",
       "      <td>0</td>\n",
       "      <td>0</td>\n",
       "      <td>0</td>\n",
       "      <td>...</td>\n",
       "      <td>0</td>\n",
       "      <td>0</td>\n",
       "      <td>0</td>\n",
       "      <td>0</td>\n",
       "      <td>0</td>\n",
       "      <td>0</td>\n",
       "      <td>0</td>\n",
       "      <td>0</td>\n",
       "      <td>0</td>\n",
       "      <td>0</td>\n",
       "    </tr>\n",
       "    <tr>\n",
       "      <th>2</th>\n",
       "      <td>1</td>\n",
       "      <td>0</td>\n",
       "      <td>0</td>\n",
       "      <td>0</td>\n",
       "      <td>0</td>\n",
       "      <td>0</td>\n",
       "      <td>0</td>\n",
       "      <td>0</td>\n",
       "      <td>0</td>\n",
       "      <td>0</td>\n",
       "      <td>...</td>\n",
       "      <td>0</td>\n",
       "      <td>0</td>\n",
       "      <td>0</td>\n",
       "      <td>0</td>\n",
       "      <td>0</td>\n",
       "      <td>0</td>\n",
       "      <td>0</td>\n",
       "      <td>0</td>\n",
       "      <td>0</td>\n",
       "      <td>0</td>\n",
       "    </tr>\n",
       "    <tr>\n",
       "      <th>3</th>\n",
       "      <td>4</td>\n",
       "      <td>0</td>\n",
       "      <td>0</td>\n",
       "      <td>0</td>\n",
       "      <td>0</td>\n",
       "      <td>0</td>\n",
       "      <td>0</td>\n",
       "      <td>0</td>\n",
       "      <td>0</td>\n",
       "      <td>0</td>\n",
       "      <td>...</td>\n",
       "      <td>0</td>\n",
       "      <td>0</td>\n",
       "      <td>0</td>\n",
       "      <td>0</td>\n",
       "      <td>0</td>\n",
       "      <td>0</td>\n",
       "      <td>0</td>\n",
       "      <td>0</td>\n",
       "      <td>0</td>\n",
       "      <td>0</td>\n",
       "    </tr>\n",
       "    <tr>\n",
       "      <th>4</th>\n",
       "      <td>0</td>\n",
       "      <td>0</td>\n",
       "      <td>0</td>\n",
       "      <td>0</td>\n",
       "      <td>0</td>\n",
       "      <td>0</td>\n",
       "      <td>0</td>\n",
       "      <td>0</td>\n",
       "      <td>0</td>\n",
       "      <td>0</td>\n",
       "      <td>...</td>\n",
       "      <td>0</td>\n",
       "      <td>0</td>\n",
       "      <td>0</td>\n",
       "      <td>0</td>\n",
       "      <td>0</td>\n",
       "      <td>0</td>\n",
       "      <td>0</td>\n",
       "      <td>0</td>\n",
       "      <td>0</td>\n",
       "      <td>0</td>\n",
       "    </tr>\n",
       "  </tbody>\n",
       "</table>\n",
       "<p>5 rows × 785 columns</p>\n",
       "</div>"
      ],
      "text/plain": [
       "   label  pixel0  pixel1  pixel2  pixel3  pixel4  pixel5  pixel6  pixel7  \\\n",
       "0      1       0       0       0       0       0       0       0       0   \n",
       "1      0       0       0       0       0       0       0       0       0   \n",
       "2      1       0       0       0       0       0       0       0       0   \n",
       "3      4       0       0       0       0       0       0       0       0   \n",
       "4      0       0       0       0       0       0       0       0       0   \n",
       "\n",
       "   pixel8  ...  pixel774  pixel775  pixel776  pixel777  pixel778  pixel779  \\\n",
       "0       0  ...         0         0         0         0         0         0   \n",
       "1       0  ...         0         0         0         0         0         0   \n",
       "2       0  ...         0         0         0         0         0         0   \n",
       "3       0  ...         0         0         0         0         0         0   \n",
       "4       0  ...         0         0         0         0         0         0   \n",
       "\n",
       "   pixel780  pixel781  pixel782  pixel783  \n",
       "0         0         0         0         0  \n",
       "1         0         0         0         0  \n",
       "2         0         0         0         0  \n",
       "3         0         0         0         0  \n",
       "4         0         0         0         0  \n",
       "\n",
       "[5 rows x 785 columns]"
      ]
     },
     "execution_count": 58,
     "metadata": {},
     "output_type": "execute_result"
    }
   ],
   "source": [
    "test_data=pd.read_csv('train.csv')\n",
    "test_data.head()"
   ]
  },
  {
   "cell_type": "code",
   "execution_count": 59,
   "id": "298f5f24",
   "metadata": {},
   "outputs": [
    {
     "data": {
      "text/plain": [
       "(42000, 785)"
      ]
     },
     "execution_count": 59,
     "metadata": {},
     "output_type": "execute_result"
    }
   ],
   "source": [
    "test_data.shape"
   ]
  },
  {
   "cell_type": "code",
   "execution_count": 60,
   "id": "ff53f2d6",
   "metadata": {},
   "outputs": [
    {
     "data": {
      "text/plain": [
       "<matplotlib.image.AxesImage at 0x1a613c53950>"
      ]
     },
     "execution_count": 60,
     "metadata": {},
     "output_type": "execute_result"
    },
    {
     "data": {
      "image/png": "[encoded data removed]",
      "text/plain": [
       "<Figure size 640x480 with 1 Axes>"
      ]
     },
     "metadata": {},
     "output_type": "display_data"
    }
   ],
   "source": [
    "label=train_data.iloc[2,1:].values\n",
    "label=label.reshape(28,28)\n",
    "plt.imshow(label)"
   ]
  },
  {
   "cell_type": "code",
   "execution_count": 61,
   "id": "36883b75",
   "metadata": {},
   "outputs": [
    {
     "data": {
      "text/plain": [
       "1"
      ]
     },
     "execution_count": 61,
     "metadata": {},
     "output_type": "execute_result"
    }
   ],
   "source": [
    "train_data.iloc[2,0]"
   ]
  },
  {
   "cell_type": "code",
   "execution_count": 62,
   "id": "ef1d4a23",
   "metadata": {},
   "outputs": [],
   "source": [
    "X=train_data.iloc[:,1:]\n",
    "Y=train_data.iloc[:,0]"
   ]
  },
  {
   "cell_type": "code",
   "execution_count": 63,
   "id": "f4107aeb",
   "metadata": {},
   "outputs": [
    {
     "data": {
      "text/html": [
       "<style>#sk-container-id-2 {color: black;}#sk-container-id-2 pre{padding: 0;}#sk-container-id-2 div.sk-toggleable {background-color: white;}#sk-container-id-2 label.sk-toggleable__label {cursor: pointer;display: block;width: 100%;margin-bottom: 0;padding: 0.3em;box-sizing: border-box;text-align: center;}#sk-container-id-2 label.sk-toggleable__label-arrow:before {content: \"▸\";float: left;margin-right: 0.25em;color: #696969;}#sk-container-id-2 label.sk-toggleable__label-arrow:hover:before {color: black;}#sk-container-id-2 div.sk-estimator:hover label.sk-toggleable__label-arrow:before {color: black;}#sk-container-id-2 div.sk-toggleable__content {max-height: 0;max-width: 0;overflow: hidden;text-align: left;background-color: #f0f8ff;}#sk-container-id-2 div.sk-toggleable__content pre {margin: 0.2em;color: black;border-radius: 0.25em;background-color: #f0f8ff;}#sk-container-id-2 input.sk-toggleable__control:checked~div.sk-toggleable__content {max-height: 200px;max-width: 100%;overflow: auto;}#sk-container-id-2 input.sk-toggleable__control:checked~label.sk-toggleable__label-arrow:before {content: \"▾\";}#sk-container-id-2 div.sk-estimator input.sk-toggleable__control:checked~label.sk-toggleable__label {background-color: #d4ebff;}#sk-container-id-2 div.sk-label input.sk-toggleable__control:checked~label.sk-toggleable__label {background-color: #d4ebff;}#sk-container-id-2 input.sk-hidden--visually {border: 0;clip: rect(1px 1px 1px 1px);clip: rect(1px, 1px, 1px, 1px);height: 1px;margin: -1px;overflow: hidden;padding: 0;position: absolute;width: 1px;}#sk-container-id-2 div.sk-estimator {font-family: monospace;background-color: #f0f8ff;border: 1px dotted black;border-radius: 0.25em;box-sizing: border-box;margin-bottom: 0.5em;}#sk-container-id-2 div.sk-estimator:hover {background-color: #d4ebff;}#sk-container-id-2 div.sk-parallel-item::after {content: \"\";width: 100%;border-bottom: 1px solid gray;flex-grow: 1;}#sk-container-id-2 div.sk-label:hover label.sk-toggleable__label {background-color: #d4ebff;}#sk-container-id-2 div.sk-serial::before {content: \"\";position: absolute;border-left: 1px solid gray;box-sizing: border-box;top: 0;bottom: 0;left: 50%;z-index: 0;}#sk-container-id-2 div.sk-serial {display: flex;flex-direction: column;align-items: center;background-color: white;padding-right: 0.2em;padding-left: 0.2em;position: relative;}#sk-container-id-2 div.sk-item {position: relative;z-index: 1;}#sk-container-id-2 div.sk-parallel {display: flex;align-items: stretch;justify-content: center;background-color: white;position: relative;}#sk-container-id-2 div.sk-item::before, #sk-container-id-2 div.sk-parallel-item::before {content: \"\";position: absolute;border-left: 1px solid gray;box-sizing: border-box;top: 0;bottom: 0;left: 50%;z-index: -1;}#sk-container-id-2 div.sk-parallel-item {display: flex;flex-direction: column;z-index: 1;position: relative;background-color: white;}#sk-container-id-2 div.sk-parallel-item:first-child::after {align-self: flex-end;width: 50%;}#sk-container-id-2 div.sk-parallel-item:last-child::after {align-self: flex-start;width: 50%;}#sk-container-id-2 div.sk-parallel-item:only-child::after {width: 0;}#sk-container-id-2 div.sk-dashed-wrapped {border: 1px dashed gray;margin: 0 0.4em 0.5em 0.4em;box-sizing: border-box;padding-bottom: 0.4em;background-color: white;}#sk-container-id-2 div.sk-label label {font-family: monospace;font-weight: bold;display: inline-block;line-height: 1.2em;}#sk-container-id-2 div.sk-label-container {text-align: center;}#sk-container-id-2 div.sk-container {/* jupyter's `normalize.less` sets `[hidden] { display: none; }` but bootstrap.min.css set `[hidden] { display: none !important; }` so we also need the `!important` here to be able to override the default hidden behavior on the sphinx rendered scikit-learn.org. See: https://github.com/scikit-learn/scikit-learn/issues/21755 */display: inline-block !important;position: relative;}#sk-container-id-2 div.sk-text-repr-fallback {display: none;}</style><div id=\"sk-container-id-2\" class=\"sk-top-container\"><div class=\"sk-text-repr-fallback\"><pre>RandomForestClassifier(max_samples=0.5, n_estimators=200)</pre><b>In a Jupyter environment, please rerun this cell to show the HTML representation or trust the notebook. <br />On GitHub, the HTML representation is unable to render, please try loading this page with nbviewer.org.</b></div><div class=\"sk-container\" hidden><div class=\"sk-item\"><div class=\"sk-estimator sk-toggleable\"><input class=\"sk-toggleable__control sk-hidden--visually\" id=\"sk-estimator-id-2\" type=\"checkbox\" checked><label for=\"sk-estimator-id-2\" class=\"sk-toggleable__label sk-toggleable__label-arrow\">RandomForestClassifier</label><div class=\"sk-toggleable__content\"><pre>RandomForestClassifier(max_samples=0.5, n_estimators=200)</pre></div></div></div></div></div>"
      ],
      "text/plain": [
       "RandomForestClassifier(max_samples=0.5, n_estimators=200)"
      ]
     },
     "execution_count": 63,
     "metadata": {},
     "output_type": "execute_result"
    }
   ],
   "source": [
    "from sklearn.model_selection import train_test_split\n",
    "x_train,x_test,y_train,y_test=train_test_split(X,Y,train_size=0.7,random_state=42)\n",
    "model=RandomForestClassifier(n_estimators=200,max_samples=0.5)\n",
    "model.fit(x_train,y_train)"
   ]
  },
  {
   "cell_type": "code",
   "execution_count": 65,
   "id": "f99d7ca7",
   "metadata": {},
   "outputs": [
    {
     "data": {
      "text/plain": [
       "array([8, 1, 9, ..., 5, 0, 4], dtype=int64)"
      ]
     },
     "execution_count": 65,
     "metadata": {},
     "output_type": "execute_result"
    }
   ],
   "source": [
    "pred=model.predict(x_test)\n",
    "pred"
   ]
  },
  {
   "cell_type": "code",
   "execution_count": 66,
   "id": "0981009e",
   "metadata": {},
   "outputs": [
    {
     "data": {
      "text/plain": [
       "(12601,)"
      ]
     },
     "execution_count": 66,
     "metadata": {},
     "output_type": "execute_result"
    }
   ],
   "source": [
    "pred.shape"
   ]
  },
  {
   "cell_type": "code",
   "execution_count": 67,
   "id": "bc2e5bc9",
   "metadata": {},
   "outputs": [
    {
     "data": {
      "text/plain": [
       "0.9991496309398279"
      ]
     },
     "execution_count": 67,
     "metadata": {},
     "output_type": "execute_result"
    }
   ],
   "source": [
    "model.score(x_train,y_train)"
   ]
  },
  {
   "cell_type": "code",
   "execution_count": 68,
   "id": "d7dbe394",
   "metadata": {},
   "outputs": [
    {
     "data": {
      "text/plain": [
       "0.9586540750734068"
      ]
     },
     "execution_count": 68,
     "metadata": {},
     "output_type": "execute_result"
    }
   ],
   "source": [
    "model.score(x_test,y_test)"
   ]
  },
  {
   "cell_type": "code",
   "execution_count": 69,
   "id": "291d071a",
   "metadata": {},
   "outputs": [
    {
     "name": "stdout",
     "output_type": "stream",
     "text": [
      "[[1186    0    4    4    2    4    9    1    2    5]\n",
      " [   0 1374    4    2    0    2    3    8    9    4]\n",
      " [   2    6 1235   16    1    2    2   17    5    5]\n",
      " [   1    1    9 1261    0   18    0    1   12   22]\n",
      " [   2    1   10    2 1180    2    4   11    6   15]\n",
      " [   0    2    1   20    0 1030    7    0    8    5]\n",
      " [   5    4    6    2    9   12 1226    0    6    2]\n",
      " [   0    0   12   16    4    1    0 1288    2   12]\n",
      " [   4    0   12   20    4    7    5    3 1145    6]\n",
      " [   0    1    1   12   23    7    0   30   14 1155]]\n"
     ]
    }
   ],
   "source": [
    "print(confusion_matrix(pred,y_test))"
   ]
  },
  {
   "cell_type": "code",
   "execution_count": 70,
   "id": "aba91c04",
   "metadata": {},
   "outputs": [
    {
     "name": "stdout",
     "output_type": "stream",
     "text": [
      "              precision    recall  f1-score   support\n",
      "\n",
      "           0       0.99      0.97      0.98      1217\n",
      "           1       0.99      0.98      0.98      1406\n",
      "           2       0.95      0.96      0.96      1291\n",
      "           3       0.93      0.95      0.94      1325\n",
      "           4       0.96      0.96      0.96      1233\n",
      "           5       0.95      0.96      0.95      1073\n",
      "           6       0.98      0.96      0.97      1272\n",
      "           7       0.95      0.96      0.96      1335\n",
      "           8       0.95      0.95      0.95      1206\n",
      "           9       0.94      0.93      0.93      1243\n",
      "\n",
      "    accuracy                           0.96     12601\n",
      "   macro avg       0.96      0.96      0.96     12601\n",
      "weighted avg       0.96      0.96      0.96     12601\n",
      "\n"
     ]
    }
   ],
   "source": [
    "print(classification_report(pred,y_test))"
   ]
  },
  {
   "cell_type": "code",
   "execution_count": 79,
   "id": "6c4be605",
   "metadata": {},
   "outputs": [],
   "source": [
    "if 'label' in test_data.columns:\n",
    "    test_data = test_data.drop(columns=['label'])  \n",
    "\n",
    "test_data_pred = model.predict(test_data)\n"
   ]
  },
  {
   "cell_type": "code",
   "execution_count": 80,
   "id": "7c932b96",
   "metadata": {},
   "outputs": [
    {
     "data": {
      "text/plain": [
       "array([1, 0, 1, ..., 7, 6, 9], dtype=int64)"
      ]
     },
     "execution_count": 80,
     "metadata": {},
     "output_type": "execute_result"
    }
   ],
   "source": [
    "test_data_pred=model.predict(test_data)\n",
    "test_data_pred"
   ]
  },
  {
   "cell_type": "code",
   "execution_count": 81,
   "id": "9b3f8095",
   "metadata": {},
   "outputs": [
    {
     "data": {
      "text/plain": [
       "<matplotlib.image.AxesImage at 0x1a6143b3d10>"
      ]
     },
     "execution_count": 81,
     "metadata": {},
     "output_type": "execute_result"
    },
    {
     "data": {
      "image/png": "[encoded data removed]",
      "text/plain": [
       "<Figure size 640x480 with 1 Axes>"
      ]
     },
     "metadata": {},
     "output_type": "display_data"
    }
   ],
   "source": [
    "b=test_data.iloc[24,0:].values\n",
    "b=b.reshape(28,28)\n",
    "plt.imshow(b)"
   ]
  },
  {
   "cell_type": "code",
   "execution_count": 82,
   "id": "783f1e45",
   "metadata": {},
   "outputs": [
    {
     "data": {
      "text/plain": [
       "2"
      ]
     },
     "execution_count": 82,
     "metadata": {},
     "output_type": "execute_result"
    }
   ],
   "source": [
    "test_data_pred[24]"
   ]
  },
  {
   "cell_type": "code",
   "execution_count": null,
   "id": "e63852b4",
   "metadata": {},
   "outputs": [],
   "source": []
  }
 ],
 "metadata": {
  "kernelspec": {
   "display_name": "Python 3 (ipykernel)",
   "language": "python",
   "name": "python3"
  },
  "language_info": {
   "codemirror_mode": {
    "name": "ipython",
    "version": 3
   },
   "file_extension": ".py",
   "mimetype": "text/x-python",
   "name": "python",
   "nbconvert_exporter": "python",
   "pygments_lexer": "ipython3",
   "version": "3.11.4"
  }
 },
 "nbformat": 4,
 "nbformat_minor": 5
}
